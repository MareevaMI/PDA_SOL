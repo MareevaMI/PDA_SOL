{
  "cells": [
    {
      "cell_type": "markdown",
      "metadata": {
        "id": "view-in-github",
        "colab_type": "text"
      },
      "source": [
        "<a href=\"https://colab.research.google.com/github/MareevaMI/PDA_SOL/blob/main/02_Linear_algebra(%D0%9C%D0%B0%D1%80%D0%B5%D0%B5%D0%B2%D0%B0_%D0%9C_%D0%98_).ipynb\" target=\"_parent\"><img src=\"https://colab.research.google.com/assets/colab-badge.svg\" alt=\"Open In Colab\"/></a>"
      ]
    },
    {
      "cell_type": "markdown",
      "metadata": {
        "id": "rg-FKkhnp4LP"
      },
      "source": [
        "# Линейная алгебра с Numpy\n",
        "\n",
        "С помощью [Sympy](http://www.sympy.org/en/index.html) можно выполнять символьную линейную алгебру, но для числовых вычислений [Numpy](http://www.numpy.org/) является высокопроизводительная библиотека, которую следует использовать при решении математических и инженерныхзадач.\n",
        "\n",
        "Описание:\n",
        "\n",
        "> NumPy — это фундаментальный пакет для научных вычислений на Python. Он содержит, среди прочего: [...]\n",
        " линейную алгебру, преобразование Фурье и теорию вероятностей.\n",
        "\n",
        "В этом разделе научимся, как:\n",
        "\n",
        "- работать с матрицами;\n",
        "- решать матричные уравнения;\n",
        "- рассчитывать обратную матрицу и определители.\n",
        "\n",
        "## Работа с матрицами\n",
        "\n",
        "Создать матрицу с помощью Numpy несложно. В качестве примера рассмотрим следующее:\n",
        "\n",
        "$$\n",
        "A = \\begin{pmatrix}\n",
        "5 & 6 & 2\\\\\n",
        "4 & 7 & 19\\\\\n",
        "0 & 3 & 12\n",
        "\\end{pmatrix}\n",
        "$$\n",
        "\n",
        "$$\n",
        "B = \\begin{pmatrix}\n",
        "14 & -2 & 12\\\\\n",
        "4 & 4 & 5\\\\\n",
        "5 & 5 & 1\n",
        "\\end{pmatrix}\n",
        "$$\n",
        "\n",
        "\n",
        "Сначала, как и в Sympy, нам нужно импортировать Numpy:"
      ]
    },
    {
      "cell_type": "code",
      "execution_count": 27,
      "metadata": {
        "collapsed": true,
        "id": "vxXrjUFEp4LR"
      },
      "outputs": [],
      "source": [
        "import numpy as np"
      ]
    },
    {
      "cell_type": "markdown",
      "metadata": {
        "id": "5LnPuC3Tp4LT"
      },
      "source": [
        "Теперь можем определить $A$:"
      ]
    },
    {
      "cell_type": "code",
      "execution_count": 28,
      "metadata": {
        "collapsed": true,
        "id": "-KCCC20_p4LT"
      },
      "outputs": [],
      "source": [
        "A = np.matrix([[5, 6, 2],\n",
        "               [4, 7, 19],\n",
        "               [0, 3, 12]])"
      ]
    },
    {
      "cell_type": "code",
      "execution_count": 29,
      "metadata": {
        "id": "PI2zlZBNp4LT",
        "colab": {
          "base_uri": "https://localhost:8080/"
        },
        "outputId": "cce45b23-0b62-4bf5-9b48-f834be4a3e37"
      },
      "outputs": [
        {
          "output_type": "execute_result",
          "data": {
            "text/plain": [
              "matrix([[ 5,  6,  2],\n",
              "        [ 4,  7, 19],\n",
              "        [ 0,  3, 12]])"
            ]
          },
          "metadata": {},
          "execution_count": 29
        }
      ],
      "source": [
        "A"
      ]
    },
    {
      "cell_type": "code",
      "execution_count": 30,
      "metadata": {
        "collapsed": true,
        "id": "Y519asZrp4LU"
      },
      "outputs": [],
      "source": [
        "B = np.matrix([[14, -2, 12],\n",
        "               [4, 4, 5],\n",
        "               [5, 5, 1]])"
      ]
    },
    {
      "cell_type": "code",
      "execution_count": 31,
      "metadata": {
        "id": "x5pVDdO7p4LV",
        "colab": {
          "base_uri": "https://localhost:8080/"
        },
        "outputId": "2c3fca8d-16b3-4082-9ab9-4465e48451a7"
      },
      "outputs": [
        {
          "output_type": "execute_result",
          "data": {
            "text/plain": [
              "matrix([[14, -2, 12],\n",
              "        [ 4,  4,  5],\n",
              "        [ 5,  5,  1]])"
            ]
          },
          "metadata": {},
          "execution_count": 31
        }
      ],
      "source": [
        "B"
      ]
    },
    {
      "cell_type": "markdown",
      "metadata": {
        "id": "aS8Wd7u2p4LV"
      },
      "source": [
        "Можно получить как следствие:\n",
        "\n",
        "- $5A$ (или любое другое скалярное число, кратное $A$);\n",
        "- $A ^ 3$ (или любой другой показатель $A$);\n",
        "- $A + B$;\n",
        "- $A - B$;\n",
        "- $AB$"
      ]
    },
    {
      "cell_type": "code",
      "execution_count": 32,
      "metadata": {
        "id": "GLBGRLLgp4LV",
        "colab": {
          "base_uri": "https://localhost:8080/"
        },
        "outputId": "c2b9eaa0-3fff-4567-f4e9-f841528d16de"
      },
      "outputs": [
        {
          "output_type": "execute_result",
          "data": {
            "text/plain": [
              "matrix([[25, 30, 10],\n",
              "        [20, 35, 95],\n",
              "        [ 0, 15, 60]])"
            ]
          },
          "metadata": {},
          "execution_count": 32
        }
      ],
      "source": [
        "5 * A"
      ]
    },
    {
      "cell_type": "code",
      "execution_count": 33,
      "metadata": {
        "id": "GoIhIqMsp4LV",
        "colab": {
          "base_uri": "https://localhost:8080/"
        },
        "outputId": "5409e0e7-5e6e-487e-cabc-7f533c600e30"
      },
      "outputs": [
        {
          "output_type": "execute_result",
          "data": {
            "text/plain": [
              "matrix([[ 557, 1284, 3356],\n",
              "        [ 760, 2305, 6994],\n",
              "        [ 288, 1074, 3519]])"
            ]
          },
          "metadata": {},
          "execution_count": 33
        }
      ],
      "source": [
        "A ** 3"
      ]
    },
    {
      "cell_type": "code",
      "execution_count": 34,
      "metadata": {
        "id": "Va-q4y9pp4LV",
        "colab": {
          "base_uri": "https://localhost:8080/"
        },
        "outputId": "4dd09976-dcfe-4d26-ce9f-e883e586882e"
      },
      "outputs": [
        {
          "output_type": "execute_result",
          "data": {
            "text/plain": [
              "matrix([[19,  4, 14],\n",
              "        [ 8, 11, 24],\n",
              "        [ 5,  8, 13]])"
            ]
          },
          "metadata": {},
          "execution_count": 34
        }
      ],
      "source": [
        "A + B"
      ]
    },
    {
      "cell_type": "code",
      "execution_count": 35,
      "metadata": {
        "id": "0hT4cYEJp4LV",
        "colab": {
          "base_uri": "https://localhost:8080/"
        },
        "outputId": "bd0caedb-5166-4567-e33e-e02760d1c0d3"
      },
      "outputs": [
        {
          "output_type": "execute_result",
          "data": {
            "text/plain": [
              "matrix([[ -9,   8, -10],\n",
              "        [  0,   3,  14],\n",
              "        [ -5,  -2,  11]])"
            ]
          },
          "metadata": {},
          "execution_count": 35
        }
      ],
      "source": [
        "A - B"
      ]
    },
    {
      "cell_type": "code",
      "execution_count": 36,
      "metadata": {
        "id": "RClISg_tp4LW",
        "colab": {
          "base_uri": "https://localhost:8080/"
        },
        "outputId": "6522212e-9265-4e47-bb91-1eeef36797d9"
      },
      "outputs": [
        {
          "output_type": "execute_result",
          "data": {
            "text/plain": [
              "matrix([[104,  24,  92],\n",
              "        [179, 115, 102],\n",
              "        [ 72,  72,  27]])"
            ]
          },
          "metadata": {},
          "execution_count": 36
        }
      ],
      "source": [
        "A * B"
      ]
    },
    {
      "cell_type": "markdown",
      "metadata": {
        "id": "2HUiofl3p4LW"
      },
      "source": [
        "---\n",
        "\n",
        "**УПРАЖНЕНИЕ 1** Решить $A ^ 2 – 2 A + 3$ с помощью:\n",
        "\n",
        "$$A =\n",
        "\\begin{pmatrix}\n",
        "1 & -1\\\\\n",
        "2 & 1\n",
        "\\end{pmatrix}\n",
        "$$\n",
        "\n",
        "---\n",
        "\n",
        "## Решение матричных уравнений\n",
        "\n",
        "Можно использовать Numpy для (эффективного) решения больших систем уравнений вида:\n",
        "\n",
        "$$Ax=b$$\n",
        "\n",
        "Проиллюстрируем это:\n",
        "\n",
        "$$\n",
        "A = \\begin{pmatrix}\n",
        "5 & 6 & 2\\\\\n",
        "4 & 7 & 19\\\\\n",
        "0 & 3 & 12\n",
        "\\end{pmatrix}\n",
        "$$\n",
        "\n",
        "$$\n",
        "b = \\begin{pmatrix}\n",
        "-1\\\\\n",
        "2\\\\\n",
        "1\n",
        "\\end{pmatrix}\n",
        "$$"
      ]
    },
    {
      "cell_type": "code",
      "source": [
        "# Упражнение 1\n",
        "A = np.matrix([[1, -1],\n",
        "               [2, 1]])\n",
        "A"
      ],
      "metadata": {
        "colab": {
          "base_uri": "https://localhost:8080/"
        },
        "id": "W0NCZWO8vmdh",
        "outputId": "86e35d42-64be-436f-d7e2-14be5b14dd74"
      },
      "execution_count": 37,
      "outputs": [
        {
          "output_type": "execute_result",
          "data": {
            "text/plain": [
              "matrix([[ 1, -1],\n",
              "        [ 2,  1]])"
            ]
          },
          "metadata": {},
          "execution_count": 37
        }
      ]
    },
    {
      "cell_type": "code",
      "source": [
        "A ** 2 - 2 * A + 3"
      ],
      "metadata": {
        "colab": {
          "base_uri": "https://localhost:8080/"
        },
        "id": "AF3eeJhPv_53",
        "outputId": "d2d5c79d-b41a-4386-b974-5c40d65a5583"
      },
      "execution_count": 38,
      "outputs": [
        {
          "output_type": "execute_result",
          "data": {
            "text/plain": [
              "matrix([[0, 3],\n",
              "        [3, 0]])"
            ]
          },
          "metadata": {},
          "execution_count": 38
        }
      ]
    },
    {
      "cell_type": "code",
      "execution_count": 39,
      "metadata": {
        "collapsed": true,
        "id": "BKRBLJdlp4LW"
      },
      "outputs": [],
      "source": [
        "A = np.matrix([[5, 6, 2],\n",
        "               [4, 7, 19],\n",
        "               [0, 3, 12]])\n",
        "b = np.matrix([[-1], [2], [1]])"
      ]
    },
    {
      "cell_type": "markdown",
      "metadata": {
        "id": "Cy-8-9Lrp4LW"
      },
      "source": [
        "Мы используем команду `linalg.solve`:"
      ]
    },
    {
      "cell_type": "code",
      "execution_count": 40,
      "metadata": {
        "id": "S28mhHKup4LW",
        "colab": {
          "base_uri": "https://localhost:8080/"
        },
        "outputId": "a116c5bf-8412-434d-b22f-d747d6228ec7"
      },
      "outputs": [
        {
          "output_type": "execute_result",
          "data": {
            "text/plain": [
              "matrix([[ 0.45736434],\n",
              "        [-0.62790698],\n",
              "        [ 0.24031008]])"
            ]
          },
          "metadata": {},
          "execution_count": 40
        }
      ],
      "source": [
        "x = np.linalg.solve(A, b)\n",
        "x"
      ]
    },
    {
      "cell_type": "markdown",
      "metadata": {
        "id": "OvYF3ugDp4LW"
      },
      "source": [
        "Проверим результат:"
      ]
    },
    {
      "cell_type": "code",
      "execution_count": 41,
      "metadata": {
        "id": "b3MEe9nhp4LX",
        "colab": {
          "base_uri": "https://localhost:8080/"
        },
        "outputId": "f0bbcd2a-4ff9-4cb4-b877-c50e7f2725a9"
      },
      "outputs": [
        {
          "output_type": "execute_result",
          "data": {
            "text/plain": [
              "matrix([[-1.],\n",
              "        [ 2.],\n",
              "        [ 1.]])"
            ]
          },
          "metadata": {},
          "execution_count": 41
        }
      ],
      "source": [
        "A * x"
      ]
    },
    {
      "cell_type": "markdown",
      "metadata": {
        "id": "SqJWo3igp4LX"
      },
      "source": [
        "---\n",
        "**УПРАЖНЕНИЕ 2** Найти решение матричного уравнения $Bx=b$ (используя $B$).\n",
        "\n",
        "---\n",
        "\n",
        "## Обратные матрицы и определители\n",
        "\n",
        "Найдем обратную матрицу:"
      ]
    },
    {
      "cell_type": "code",
      "source": [
        "# Упражнение 2\n",
        "B = np.matrix([[14, -2, 12],\n",
        "               [4, 4, 5],\n",
        "               [5, 5, 1]])\n",
        "b = np.matrix([[-1], [2], [1]])\n",
        "x = np.linalg.solve(B, b)\n",
        "x"
      ],
      "metadata": {
        "colab": {
          "base_uri": "https://localhost:8080/"
        },
        "id": "MTMgzlvOxYUw",
        "outputId": "75b35f7d-ffe2-4240-dba0-7894b093b28f"
      },
      "execution_count": 42,
      "outputs": [
        {
          "output_type": "execute_result",
          "data": {
            "text/plain": [
              "matrix([[-0.25892857],\n",
              "        [ 0.40178571],\n",
              "        [ 0.28571429]])"
            ]
          },
          "metadata": {},
          "execution_count": 42
        }
      ]
    },
    {
      "cell_type": "code",
      "source": [
        "# Проверка решения\n",
        "B*x\n",
        "# Решение верное"
      ],
      "metadata": {
        "colab": {
          "base_uri": "https://localhost:8080/"
        },
        "id": "4er2mp1VxuLy",
        "outputId": "45a05a1a-7d38-41d2-d3e0-00c8cab40400"
      },
      "execution_count": 43,
      "outputs": [
        {
          "output_type": "execute_result",
          "data": {
            "text/plain": [
              "matrix([[-1.],\n",
              "        [ 2.],\n",
              "        [ 1.]])"
            ]
          },
          "metadata": {},
          "execution_count": 43
        }
      ]
    },
    {
      "cell_type": "code",
      "execution_count": 44,
      "metadata": {
        "id": "40ZnMcmYp4LX",
        "colab": {
          "base_uri": "https://localhost:8080/"
        },
        "outputId": "e72eb4b2-9438-41a5-cb8b-385dc9c18b89"
      },
      "outputs": [
        {
          "output_type": "execute_result",
          "data": {
            "text/plain": [
              "matrix([[-0.20930233,  0.51162791, -0.7751938 ],\n",
              "        [ 0.37209302, -0.46511628,  0.6744186 ],\n",
              "        [-0.09302326,  0.11627907, -0.08527132]])"
            ]
          },
          "metadata": {},
          "execution_count": 44
        }
      ],
      "source": [
        "Ainv = np.linalg.inv(A)\n",
        "Ainv"
      ]
    },
    {
      "cell_type": "markdown",
      "metadata": {
        "id": "2P56AFdPp4LX"
      },
      "source": [
        "Проверка $A^{-1}A=\\mathbb{1}$:"
      ]
    },
    {
      "cell_type": "code",
      "execution_count": 45,
      "metadata": {
        "tags": [
          "nbval-ignore-output"
        ],
        "id": "E0w8uSJ1p4LX",
        "colab": {
          "base_uri": "https://localhost:8080/"
        },
        "outputId": "1d1d6454-de7d-4255-f9d4-db93e6cbebf8"
      },
      "outputs": [
        {
          "output_type": "execute_result",
          "data": {
            "text/plain": [
              "matrix([[ 1.00000000e+00,  4.99600361e-16, -4.71844785e-16],\n",
              "        [ 1.38777878e-16,  1.00000000e+00, -2.63677968e-16],\n",
              "        [ 1.11022302e-16,  1.11022302e-16,  1.00000000e+00]])"
            ]
          },
          "metadata": {},
          "execution_count": 45
        }
      ],
      "source": [
        "A * Ainv"
      ]
    },
    {
      "cell_type": "markdown",
      "metadata": {
        "id": "ODJ_7muxp4LX"
      },
      "source": [
        "Казалось бы, что матрица не единичная, однако по главной  `1` , а на всех остальных позициях **очень** маленькие числа (однако для компьютера это `0`)."
      ]
    },
    {
      "cell_type": "markdown",
      "metadata": {
        "id": "gPcR_9X9p4LX"
      },
      "source": [
        "Вычислим детерминант:"
      ]
    },
    {
      "cell_type": "code",
      "execution_count": 46,
      "metadata": {
        "tags": [
          "nbval-ignore-output"
        ],
        "id": "KxY9zOm_p4LY",
        "colab": {
          "base_uri": "https://localhost:8080/"
        },
        "outputId": "565f664e-df54-4b61-b501-2fe81f57333c"
      },
      "outputs": [
        {
          "output_type": "execute_result",
          "data": {
            "text/plain": [
              "-129.00000000000009"
            ]
          },
          "metadata": {},
          "execution_count": 46
        }
      ],
      "source": [
        "np.linalg.det(A)"
      ]
    },
    {
      "cell_type": "markdown",
      "metadata": {
        "id": "zKh5JnsWp4LY"
      },
      "source": [
        "---\n",
        "\n",
        "**УПРАЖНЕНИЕ 2** Вычислите обратную матрицу и определитель $B$ (ранее уже находили).\n",
        "\n",
        "---"
      ]
    },
    {
      "cell_type": "code",
      "source": [
        "B = np.matrix([[14, -2, 12],\n",
        "               [4, 4, 5],\n",
        "               [5, 5, 1]])\n",
        "Binv = np.linalg.inv(B)\n",
        "Binv"
      ],
      "metadata": {
        "colab": {
          "base_uri": "https://localhost:8080/"
        },
        "id": "jOpu4qmfx7mf",
        "outputId": "541fd942-f2e4-4631-e0fd-1108e60e5d75"
      },
      "execution_count": 47,
      "outputs": [
        {
          "output_type": "execute_result",
          "data": {
            "text/plain": [
              "matrix([[ 6.25000000e-02, -1.84523810e-01,  1.72619048e-01],\n",
              "        [-6.25000000e-02,  1.36904762e-01,  6.54761905e-02],\n",
              "        [-1.09511795e-17,  2.38095238e-01, -1.90476190e-01]])"
            ]
          },
          "metadata": {},
          "execution_count": 47
        }
      ]
    },
    {
      "cell_type": "code",
      "source": [
        "np.linalg.det(B)"
      ],
      "metadata": {
        "colab": {
          "base_uri": "https://localhost:8080/"
        },
        "id": "ZIo19OqJyGfg",
        "outputId": "9803a36b-3a37-4bec-ffe6-e2ef5261b227"
      },
      "execution_count": 48,
      "outputs": [
        {
          "output_type": "execute_result",
          "data": {
            "text/plain": [
              "-336.0"
            ]
          },
          "metadata": {},
          "execution_count": 48
        }
      ]
    }
  ],
  "metadata": {
    "anaconda-cloud": {},
    "celltoolbar": "Tags",
    "kernelspec": {
      "display_name": "Python [conda env:mwp]",
      "language": "python",
      "name": "conda-env-mwp-py"
    },
    "language_info": {
      "codemirror_mode": {
        "name": "ipython",
        "version": 3
      },
      "file_extension": ".py",
      "mimetype": "text/x-python",
      "name": "python",
      "nbconvert_exporter": "python",
      "pygments_lexer": "ipython3",
      "version": "3.7.0"
    },
    "colab": {
      "provenance": [],
      "include_colab_link": true
    }
  },
  "nbformat": 4,
  "nbformat_minor": 0
}