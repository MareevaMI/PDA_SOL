{
  "nbformat": 4,
  "nbformat_minor": 0,
  "metadata": {
    "colab": {
      "provenance": [],
      "authorship_tag": "ABX9TyOt45dWQV9XZEBn+h9o3Pi3",
      "include_colab_link": true
    },
    "kernelspec": {
      "name": "python3",
      "display_name": "Python 3"
    },
    "language_info": {
      "name": "python"
    }
  },
  "cells": [
    {
      "cell_type": "markdown",
      "metadata": {
        "id": "view-in-github",
        "colab_type": "text"
      },
      "source": [
        "<a href=\"https://colab.research.google.com/github/MareevaMI/PDA_SOL/blob/main/Scipy_algebra(%D0%9C%D0%B0%D1%80%D0%B5%D0%B5%D0%B2%D0%B0_%D0%9C_%D0%98_).ipynb\" target=\"_parent\"><img src=\"https://colab.research.google.com/assets/colab-badge.svg\" alt=\"Open In Colab\"/></a>"
      ]
    },
    {
      "cell_type": "code",
      "execution_count": 10,
      "metadata": {
        "colab": {
          "base_uri": "https://localhost:8080/"
        },
        "id": "I6mW0B5SyOkl",
        "outputId": "846d4b05-008c-424d-e78c-81d661b2a0f6"
      },
      "outputs": [
        {
          "output_type": "execute_result",
          "data": {
            "text/plain": [
              "matrix([[ 2, 31,  3],\n",
              "        [ 3,  3,  6],\n",
              "        [ 5, 10, -2]])"
            ]
          },
          "metadata": {},
          "execution_count": 10
        }
      ],
      "source": [
        "# Задания из методички (с.13)\n",
        "# Задание 1\n",
        "import sympy as sym\n",
        "import numpy as np\n",
        "import matplotlib as plt\n",
        "A = np.matrix([[2, 31, 3],\n",
        "               [3, 3, 6],\n",
        "               [5, 10, -2]])\n",
        "A"
      ]
    },
    {
      "cell_type": "code",
      "source": [
        "B = np.matrix([[3, -3, 5],\n",
        "               [28, 4, 6],\n",
        "               [5, 10, -2]])\n",
        "B"
      ],
      "metadata": {
        "colab": {
          "base_uri": "https://localhost:8080/"
        },
        "id": "6jPSap2C0Vj5",
        "outputId": "56d3ddf7-c3ec-457e-c8d9-2db1638e77f2"
      },
      "execution_count": 11,
      "outputs": [
        {
          "output_type": "execute_result",
          "data": {
            "text/plain": [
              "matrix([[ 3, -3,  5],\n",
              "        [28,  4,  6],\n",
              "        [ 5, 10, -2]])"
            ]
          },
          "metadata": {},
          "execution_count": 11
        }
      ]
    },
    {
      "cell_type": "code",
      "source": [
        "C = np.matrix([[-1, 4, -2],\n",
        "               [2, 1, 6],\n",
        "               [5, 4, -2]])\n",
        "C"
      ],
      "metadata": {
        "colab": {
          "base_uri": "https://localhost:8080/"
        },
        "id": "fzMFRfrI0nvx",
        "outputId": "99b4f6d6-2555-469a-c717-71461f6d4a90"
      },
      "execution_count": 12,
      "outputs": [
        {
          "output_type": "execute_result",
          "data": {
            "text/plain": [
              "matrix([[-1,  4, -2],\n",
              "        [ 2,  1,  6],\n",
              "        [ 5,  4, -2]])"
            ]
          },
          "metadata": {},
          "execution_count": 12
        }
      ]
    },
    {
      "cell_type": "code",
      "source": [
        "A*B*C"
      ],
      "metadata": {
        "colab": {
          "base_uri": "https://localhost:8080/"
        },
        "id": "Y659Cez705Ka",
        "outputId": "ef7ce09e-d178-49e5-e8a3-4f7055787cd1"
      },
      "execution_count": 13,
      "outputs": [
        {
          "output_type": "execute_result",
          "data": {
            "text/plain": [
              "matrix([[  357,  4464, -1270],\n",
              "        [  108,   639,    90],\n",
              "        [  170,  1501,  -718]])"
            ]
          },
          "metadata": {},
          "execution_count": 13
        }
      ]
    },
    {
      "cell_type": "code",
      "source": [
        "# Задание 2\n",
        "G = np.matrix([[2, 31, 5, 6],\n",
        "               [4, 3, 6, 12],\n",
        "               [5, -2, 16, 2],\n",
        "               [2, 7, 11, -6]])\n",
        "G"
      ],
      "metadata": {
        "colab": {
          "base_uri": "https://localhost:8080/"
        },
        "id": "WsBPvS6c074m",
        "outputId": "22dcec0e-a919-4ea3-b420-c128b46515cf"
      },
      "execution_count": 21,
      "outputs": [
        {
          "output_type": "execute_result",
          "data": {
            "text/plain": [
              "matrix([[ 2, 31,  5,  6],\n",
              "        [ 4,  3,  6, 12],\n",
              "        [ 5, -2, 16,  2],\n",
              "        [ 2,  7, 11, -6]])"
            ]
          },
          "metadata": {},
          "execution_count": 21
        }
      ]
    },
    {
      "cell_type": "code",
      "source": [
        "np.linalg.det(G)"
      ],
      "metadata": {
        "colab": {
          "base_uri": "https://localhost:8080/"
        },
        "id": "p3Ca6HDz1beN",
        "outputId": "f71e2fa5-cb95-4b66-816c-54cfdf199d85"
      },
      "execution_count": 22,
      "outputs": [
        {
          "output_type": "execute_result",
          "data": {
            "text/plain": [
              "888.0000000000016"
            ]
          },
          "metadata": {},
          "execution_count": 22
        }
      ]
    },
    {
      "cell_type": "code",
      "source": [
        "from scipy import linalg\n",
        "H = np.array(G);\n",
        "linalg.eig(H)\n",
        "# Собственные значения: 24.47, -13.85, -0.53, 4.91\n",
        "# Нормаъированные собственные векторы: второй массив"
      ],
      "metadata": {
        "colab": {
          "base_uri": "https://localhost:8080/"
        },
        "id": "5Q674wfg1gqe",
        "outputId": "d3e3b3c0-f4ba-4d23-e844-765773bf45f7"
      },
      "execution_count": 23,
      "outputs": [
        {
          "output_type": "execute_result",
          "data": {
            "text/plain": [
              "(array([ 24.47118244+0.j, -13.84791   +0.j,  -0.53365264+0.j,\n",
              "          4.9103802 +0.j]),\n",
              " array([[-7.51323817e-01, -7.45852773e-01,  9.46838931e-01,\n",
              "         -9.11837043e-01],\n",
              "        [-4.20697193e-01,  4.41060785e-01,  7.77409440e-04,\n",
              "         -1.62928044e-01],\n",
              "        [-4.13868055e-01,  1.85546971e-01, -2.64004618e-01,\n",
              "          3.64465023e-01],\n",
              "        [-2.95363549e-01, -4.63401929e-01, -1.83839593e-01,\n",
              "          9.57752935e-02]]))"
            ]
          },
          "metadata": {},
          "execution_count": 23
        }
      ]
    },
    {
      "cell_type": "code",
      "source": [
        "Ginv = np.linalg.inv(G)\n",
        "Ginv"
      ],
      "metadata": {
        "colab": {
          "base_uri": "https://localhost:8080/"
        },
        "id": "qBCq-QJ-6hrE",
        "outputId": "cb7d5dd5-cd9f-406d-c0a5-b8c53b116915"
      },
      "execution_count": 24,
      "outputs": [
        {
          "output_type": "execute_result",
          "data": {
            "text/plain": [
              "matrix([[-2.19594595,  5.01351351, -5.35135135,  6.0472973 ],\n",
              "        [-0.00900901,  0.08108108, -0.10810811,  0.11711712],\n",
              "        [ 0.63288288, -1.44594595,  1.59459459, -1.72747748],\n",
              "        [ 0.41779279, -0.88513514,  1.01351351, -1.18130631]])"
            ]
          },
          "metadata": {},
          "execution_count": 24
        }
      ]
    },
    {
      "cell_type": "code",
      "source": [
        "# Задание 3\n",
        "A = np.matrix([[2, -5, 7],\n",
        "      [8, 1, 9],\n",
        "      [3, -4, 12]])\n",
        "A"
      ],
      "metadata": {
        "colab": {
          "base_uri": "https://localhost:8080/"
        },
        "id": "6QZ6E2Jg6o4a",
        "outputId": "0c3a9761-3bc8-4b52-faeb-163bcecbc0c2"
      },
      "execution_count": 25,
      "outputs": [
        {
          "output_type": "execute_result",
          "data": {
            "text/plain": [
              "matrix([[ 2, -5,  7],\n",
              "        [ 8,  1,  9],\n",
              "        [ 3, -4, 12]])"
            ]
          },
          "metadata": {},
          "execution_count": 25
        }
      ]
    },
    {
      "cell_type": "code",
      "source": [
        "C = np.matrix([[-25, -17, 78],\n",
        "      [11, 89, 76],\n",
        "      [-5, 24, 115]])\n",
        "C"
      ],
      "metadata": {
        "colab": {
          "base_uri": "https://localhost:8080/"
        },
        "id": "-QGr9W6N7cMK",
        "outputId": "c350d195-da20-4f93-eb36-27581ea5cff6"
      },
      "execution_count": 27,
      "outputs": [
        {
          "output_type": "execute_result",
          "data": {
            "text/plain": [
              "matrix([[-25, -17,  78],\n",
              "        [ 11,  89,  76],\n",
              "        [ -5,  24, 115]])"
            ]
          },
          "metadata": {},
          "execution_count": 27
        }
      ]
    },
    {
      "cell_type": "code",
      "source": [
        "X = np.linalg.solve(A,C)\n",
        "X"
      ],
      "metadata": {
        "colab": {
          "base_uri": "https://localhost:8080/"
        },
        "id": "uasAkNhi7tEf",
        "outputId": "7eef34ac-19c1-46dc-b35c-ec1d46d9d41d"
      },
      "execution_count": 31,
      "outputs": [
        {
          "output_type": "execute_result",
          "data": {
            "text/plain": [
              "matrix([[-3.,  4.,  1.],\n",
              "        [ 8., 12., -4.],\n",
              "        [ 3.,  5.,  8.]])"
            ]
          },
          "metadata": {},
          "execution_count": 31
        }
      ]
    },
    {
      "cell_type": "code",
      "source": [
        "# Задание 4\n",
        "A = np.matrix([[3, 1, 1, 3],\n",
        "      [1, -1, 6, 4],\n",
        "      [-5, 0, -1, -7],\n",
        "      [1, -6, 28, 6]])\n",
        "A"
      ],
      "metadata": {
        "colab": {
          "base_uri": "https://localhost:8080/"
        },
        "id": "ggW6hVEh88z0",
        "outputId": "0e116ea3-e37d-4b93-adcd-b3cec028e24e"
      },
      "execution_count": 34,
      "outputs": [
        {
          "output_type": "execute_result",
          "data": {
            "text/plain": [
              "matrix([[ 3,  1,  1,  3],\n",
              "        [ 1, -1,  6,  4],\n",
              "        [-5,  0, -1, -7],\n",
              "        [ 1, -6, 28,  6]])"
            ]
          },
          "metadata": {},
          "execution_count": 34
        }
      ]
    },
    {
      "cell_type": "code",
      "source": [
        "b = np.matrix([[28],\n",
        "     [3],\n",
        "     [-5],\n",
        "     [3]])\n",
        "b"
      ],
      "metadata": {
        "colab": {
          "base_uri": "https://localhost:8080/"
        },
        "id": "6ulbgGKx9fai",
        "outputId": "4aff8c93-3059-4fa6-e84b-df2467b7ff5a"
      },
      "execution_count": 37,
      "outputs": [
        {
          "output_type": "execute_result",
          "data": {
            "text/plain": [
              "matrix([[28],\n",
              "        [ 3],\n",
              "        [-5],\n",
              "        [ 3]])"
            ]
          },
          "metadata": {},
          "execution_count": 37
        }
      ]
    },
    {
      "cell_type": "code",
      "source": [
        "Y = np.linalg.solve(A,b)\n",
        "Y"
      ],
      "metadata": {
        "colab": {
          "base_uri": "https://localhost:8080/"
        },
        "id": "osWJUNcj9215",
        "outputId": "efc2b22b-bbba-42f2-b23c-7d04b49c77af"
      },
      "execution_count": 39,
      "outputs": [
        {
          "output_type": "execute_result",
          "data": {
            "text/plain": [
              "matrix([[ 3.07534247],\n",
              "        [20.45205479],\n",
              "        [ 4.84589041],\n",
              "        [-2.17465753]])"
            ]
          },
          "metadata": {},
          "execution_count": 39
        }
      ]
    },
    {
      "cell_type": "code",
      "source": [
        "# Задания из методички (с.35)\n",
        "# Задание 1\n",
        "x = sym.symbols('x')\n",
        "from scipy import optimize\n",
        "def f(x):\n",
        "     return ((6+x)**3-2*x**2-28*x-17)\n",
        "solution = optimize.root_scalar(f, x0=0, method=\"newton\")\n",
        "print(solution)\n",
        "\n",
        "graph1 = (6+x)**3-2*x**2-28*x-17\n",
        "g1 = sym.plot(graph1)\n"
      ],
      "metadata": {
        "colab": {
          "base_uri": "https://localhost:8080/",
          "height": 571
        },
        "id": "Rqg7L02o98sa",
        "outputId": "2b78fbbc-8fe1-4974-be34-dbe77a79f161"
      },
      "execution_count": 89,
      "outputs": [
        {
          "output_type": "stream",
          "name": "stdout",
          "text": [
            "      converged: True\n",
            "           flag: converged\n",
            " function_calls: 26\n",
            "     iterations: 13\n",
            "           root: -9.983268088132792\n"
          ]
        },
        {
          "output_type": "display_data",
          "data": {
            "text/plain": [
              "<Figure size 640x480 with 1 Axes>"
            ],
            "image/png": "[encoded data removed]"
          },
          "metadata": {}
        }
      ]
    },
    {
      "cell_type": "code",
      "source": [
        "# Задание 2\n",
        "def f(x):\n",
        "     return (28*x**3-9*x**2-x+6)\n",
        "solution = optimize.fsolve(f, x0=0)\n",
        "print(solution)\n",
        "\n",
        "graph2 = 28*x**3-9*x**2-x+6\n",
        "g2 = sym.plot(graph2)\n"
      ],
      "metadata": {
        "colab": {
          "base_uri": "https://localhost:8080/",
          "height": 556
        },
        "id": "Gvf6wo6PBgi3",
        "outputId": "f48106ec-4df4-4247-81b9-45800b522f3c"
      },
      "execution_count": 90,
      "outputs": [
        {
          "output_type": "stream",
          "name": "stderr",
          "text": [
            "/usr/local/lib/python3.10/dist-packages/scipy/optimize/_minpack_py.py:177: RuntimeWarning: The iteration is not making good progress, as measured by the \n",
            "  improvement from the last five Jacobian evaluations.\n",
            "  warnings.warn(msg, RuntimeWarning)\n"
          ]
        },
        {
          "output_type": "stream",
          "name": "stdout",
          "text": [
            "[0.25800021]\n"
          ]
        },
        {
          "output_type": "display_data",
          "data": {
            "text/plain": [
              "<Figure size 640x480 with 1 Axes>"
            ],
            "image/png": "[encoded data removed]"
          },
          "metadata": {}
        }
      ]
    },
    {
      "cell_type": "code",
      "source": [],
      "metadata": {
        "id": "mwfFDzlOHVHh"
      },
      "execution_count": null,
      "outputs": []
    }
  ]
}