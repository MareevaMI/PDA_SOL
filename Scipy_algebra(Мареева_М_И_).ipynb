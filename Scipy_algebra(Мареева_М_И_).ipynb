{
  "nbformat": 4,
  "nbformat_minor": 0,
  "metadata": {
    "colab": {
      "provenance": [],
      "authorship_tag": "ABX9TyN67yhu5Vtbv/Kzyz9gRcK5",
      "include_colab_link": true
    },
    "kernelspec": {
      "name": "python3",
      "display_name": "Python 3"
    },
    "language_info": {
      "name": "python"
    }
  },
  "cells": [
    {
      "cell_type": "markdown",
      "metadata": {
        "id": "view-in-github",
        "colab_type": "text"
      },
      "source": [
        "<a href=\"https://colab.research.google.com/github/MareevaMI/PDA_SOL/blob/main/Scipy_algebra(%D0%9C%D0%B0%D1%80%D0%B5%D0%B5%D0%B2%D0%B0_%D0%9C_%D0%98_).ipynb\" target=\"_parent\"><img src=\"https://colab.research.google.com/assets/colab-badge.svg\" alt=\"Open In Colab\"/></a>"
      ]
    },
    {
      "cell_type": "code",
      "execution_count": 17,
      "metadata": {
        "colab": {
          "base_uri": "https://localhost:8080/"
        },
        "id": "I6mW0B5SyOkl",
        "outputId": "06e15a9b-74a9-4670-bac5-faa6377a4f61"
      },
      "outputs": [
        {
          "output_type": "execute_result",
          "data": {
            "text/plain": [
              "matrix([[ 2, 31,  3],\n",
              "        [ 3,  3,  6],\n",
              "        [ 5, 10, -2]])"
            ]
          },
          "metadata": {},
          "execution_count": 17
        }
      ],
      "source": [
        "# Задания из методички (с.13)\n",
        "# Задание 1\n",
        "import sympy as sym\n",
        "import numpy as np\n",
        "import matplotlib as plt\n",
        "%matplotlib inline\n",
        "A = np.matrix([[2, 31, 3],\n",
        "               [3, 3, 6],\n",
        "               [5, 10, -2]])\n",
        "A"
      ]
    },
    {
      "cell_type": "code",
      "source": [
        "B = np.matrix([[3, -3, 5],\n",
        "               [28, 4, 6],\n",
        "               [5, 10, -2]])\n",
        "B"
      ],
      "metadata": {
        "colab": {
          "base_uri": "https://localhost:8080/"
        },
        "id": "6jPSap2C0Vj5",
        "outputId": "6ef39838-7d54-4daf-aabb-4a087217897b"
      },
      "execution_count": 2,
      "outputs": [
        {
          "output_type": "execute_result",
          "data": {
            "text/plain": [
              "matrix([[ 3, -3,  5],\n",
              "        [28,  4,  6],\n",
              "        [ 5, 10, -2]])"
            ]
          },
          "metadata": {},
          "execution_count": 2
        }
      ]
    },
    {
      "cell_type": "code",
      "source": [
        "C = np.matrix([[-1, 4, -2],\n",
        "               [2, 1, 6],\n",
        "               [5, 4, -2]])\n",
        "C"
      ],
      "metadata": {
        "colab": {
          "base_uri": "https://localhost:8080/"
        },
        "id": "fzMFRfrI0nvx",
        "outputId": "fa530d0a-825a-4e56-9600-70e12bc7a515"
      },
      "execution_count": 3,
      "outputs": [
        {
          "output_type": "execute_result",
          "data": {
            "text/plain": [
              "matrix([[-1,  4, -2],\n",
              "        [ 2,  1,  6],\n",
              "        [ 5,  4, -2]])"
            ]
          },
          "metadata": {},
          "execution_count": 3
        }
      ]
    },
    {
      "cell_type": "code",
      "source": [
        "A*B*C"
      ],
      "metadata": {
        "colab": {
          "base_uri": "https://localhost:8080/"
        },
        "id": "Y659Cez705Ka",
        "outputId": "fa4a8a1d-54f0-49ae-d005-a58088f3731c"
      },
      "execution_count": 4,
      "outputs": [
        {
          "output_type": "execute_result",
          "data": {
            "text/plain": [
              "matrix([[  357,  4464, -1270],\n",
              "        [  108,   639,    90],\n",
              "        [  170,  1501,  -718]])"
            ]
          },
          "metadata": {},
          "execution_count": 4
        }
      ]
    },
    {
      "cell_type": "code",
      "source": [
        "# Задание 2\n",
        "G = np.matrix([[2, 31, 5, 6],\n",
        "               [4, 3, 6, 12],\n",
        "               [5, -2, 16, 2],\n",
        "               [2, 7, 11, -6]])\n",
        "G"
      ],
      "metadata": {
        "colab": {
          "base_uri": "https://localhost:8080/"
        },
        "id": "WsBPvS6c074m",
        "outputId": "d905c17c-b5b4-46c8-bd4b-df1775e3e32f"
      },
      "execution_count": 5,
      "outputs": [
        {
          "output_type": "execute_result",
          "data": {
            "text/plain": [
              "matrix([[ 2, 31,  5,  6],\n",
              "        [ 4,  3,  6, 12],\n",
              "        [ 5, -2, 16,  2],\n",
              "        [ 2,  7, 11, -6]])"
            ]
          },
          "metadata": {},
          "execution_count": 5
        }
      ]
    },
    {
      "cell_type": "code",
      "source": [
        "np.linalg.det(G)"
      ],
      "metadata": {
        "colab": {
          "base_uri": "https://localhost:8080/"
        },
        "id": "p3Ca6HDz1beN",
        "outputId": "1a544024-021a-403e-dfbc-6ee39f76d7c8"
      },
      "execution_count": 6,
      "outputs": [
        {
          "output_type": "execute_result",
          "data": {
            "text/plain": [
              "888.0000000000016"
            ]
          },
          "metadata": {},
          "execution_count": 6
        }
      ]
    },
    {
      "cell_type": "code",
      "source": [
        "from scipy import linalg\n",
        "H = np.array(G);\n",
        "linalg.eig(H)\n",
        "# Собственные значения: 24.47, -13.85, -0.53, 4.91\n",
        "# Нормаъированные собственные векторы: второй массив"
      ],
      "metadata": {
        "colab": {
          "base_uri": "https://localhost:8080/"
        },
        "id": "5Q674wfg1gqe",
        "outputId": "3b690f96-21f1-4d90-96c0-5c72d70c3ea5"
      },
      "execution_count": 7,
      "outputs": [
        {
          "output_type": "execute_result",
          "data": {
            "text/plain": [
              "(array([ 24.47118244+0.j, -13.84791   +0.j,  -0.53365264+0.j,\n",
              "          4.9103802 +0.j]),\n",
              " array([[-7.51323817e-01, -7.45852773e-01,  9.46838931e-01,\n",
              "         -9.11837043e-01],\n",
              "        [-4.20697193e-01,  4.41060785e-01,  7.77409440e-04,\n",
              "         -1.62928044e-01],\n",
              "        [-4.13868055e-01,  1.85546971e-01, -2.64004618e-01,\n",
              "          3.64465023e-01],\n",
              "        [-2.95363549e-01, -4.63401929e-01, -1.83839593e-01,\n",
              "          9.57752935e-02]]))"
            ]
          },
          "metadata": {},
          "execution_count": 7
        }
      ]
    },
    {
      "cell_type": "code",
      "source": [
        "Ginv = np.linalg.inv(G)\n",
        "Ginv"
      ],
      "metadata": {
        "colab": {
          "base_uri": "https://localhost:8080/"
        },
        "id": "qBCq-QJ-6hrE",
        "outputId": "bf0974c6-1158-4c70-de60-c4f9baafe580"
      },
      "execution_count": 8,
      "outputs": [
        {
          "output_type": "execute_result",
          "data": {
            "text/plain": [
              "matrix([[-2.19594595,  5.01351351, -5.35135135,  6.0472973 ],\n",
              "        [-0.00900901,  0.08108108, -0.10810811,  0.11711712],\n",
              "        [ 0.63288288, -1.44594595,  1.59459459, -1.72747748],\n",
              "        [ 0.41779279, -0.88513514,  1.01351351, -1.18130631]])"
            ]
          },
          "metadata": {},
          "execution_count": 8
        }
      ]
    },
    {
      "cell_type": "code",
      "source": [
        "# Задание 3\n",
        "A = np.matrix([[2, -5, 7],\n",
        "      [8, 1, 9],\n",
        "      [3, -4, 12]])\n",
        "A"
      ],
      "metadata": {
        "colab": {
          "base_uri": "https://localhost:8080/"
        },
        "id": "6QZ6E2Jg6o4a",
        "outputId": "615b57d1-ac6d-4dbc-e280-008c10595955"
      },
      "execution_count": 9,
      "outputs": [
        {
          "output_type": "execute_result",
          "data": {
            "text/plain": [
              "matrix([[ 2, -5,  7],\n",
              "        [ 8,  1,  9],\n",
              "        [ 3, -4, 12]])"
            ]
          },
          "metadata": {},
          "execution_count": 9
        }
      ]
    },
    {
      "cell_type": "code",
      "source": [
        "C = np.matrix([[-25, -17, 78],\n",
        "      [11, 89, 76],\n",
        "      [-5, 24, 115]])\n",
        "C"
      ],
      "metadata": {
        "colab": {
          "base_uri": "https://localhost:8080/"
        },
        "id": "-QGr9W6N7cMK",
        "outputId": "32a9a7ad-7cb2-49e2-d887-20591427c9dc"
      },
      "execution_count": 10,
      "outputs": [
        {
          "output_type": "execute_result",
          "data": {
            "text/plain": [
              "matrix([[-25, -17,  78],\n",
              "        [ 11,  89,  76],\n",
              "        [ -5,  24, 115]])"
            ]
          },
          "metadata": {},
          "execution_count": 10
        }
      ]
    },
    {
      "cell_type": "code",
      "source": [
        "X = np.linalg.solve(A,C)\n",
        "X"
      ],
      "metadata": {
        "colab": {
          "base_uri": "https://localhost:8080/"
        },
        "id": "uasAkNhi7tEf",
        "outputId": "ca85ec8e-4f50-47df-a0ea-e8280753a0c6"
      },
      "execution_count": 11,
      "outputs": [
        {
          "output_type": "execute_result",
          "data": {
            "text/plain": [
              "matrix([[-3.,  4.,  1.],\n",
              "        [ 8., 12., -4.],\n",
              "        [ 3.,  5.,  8.]])"
            ]
          },
          "metadata": {},
          "execution_count": 11
        }
      ]
    },
    {
      "cell_type": "code",
      "source": [
        "# Задание 4\n",
        "A = np.matrix([[3, 1, 1, 3],\n",
        "      [1, -1, 6, 4],\n",
        "      [-5, 0, -1, -7],\n",
        "      [1, -6, 28, 6]])\n",
        "A"
      ],
      "metadata": {
        "colab": {
          "base_uri": "https://localhost:8080/"
        },
        "id": "ggW6hVEh88z0",
        "outputId": "429d8c7a-ce9a-4d17-988e-60aac3ed1de7"
      },
      "execution_count": 12,
      "outputs": [
        {
          "output_type": "execute_result",
          "data": {
            "text/plain": [
              "matrix([[ 3,  1,  1,  3],\n",
              "        [ 1, -1,  6,  4],\n",
              "        [-5,  0, -1, -7],\n",
              "        [ 1, -6, 28,  6]])"
            ]
          },
          "metadata": {},
          "execution_count": 12
        }
      ]
    },
    {
      "cell_type": "code",
      "source": [
        "b = np.matrix([[28],\n",
        "     [3],\n",
        "     [-5],\n",
        "     [3]])\n",
        "b"
      ],
      "metadata": {
        "colab": {
          "base_uri": "https://localhost:8080/"
        },
        "id": "6ulbgGKx9fai",
        "outputId": "1f2522ff-dd6b-4432-e7f9-6f0d929d6a7d"
      },
      "execution_count": 13,
      "outputs": [
        {
          "output_type": "execute_result",
          "data": {
            "text/plain": [
              "matrix([[28],\n",
              "        [ 3],\n",
              "        [-5],\n",
              "        [ 3]])"
            ]
          },
          "metadata": {},
          "execution_count": 13
        }
      ]
    },
    {
      "cell_type": "code",
      "source": [
        "Y = np.linalg.solve(A,b)\n",
        "Y"
      ],
      "metadata": {
        "colab": {
          "base_uri": "https://localhost:8080/"
        },
        "id": "osWJUNcj9215",
        "outputId": "d915041b-bdfe-4b89-d3fc-c8d662785905"
      },
      "execution_count": 14,
      "outputs": [
        {
          "output_type": "execute_result",
          "data": {
            "text/plain": [
              "matrix([[ 3.07534247],\n",
              "        [20.45205479],\n",
              "        [ 4.84589041],\n",
              "        [-2.17465753]])"
            ]
          },
          "metadata": {},
          "execution_count": 14
        }
      ]
    },
    {
      "cell_type": "code",
      "source": [
        "# Задания из методички (с.35)\n",
        "# Задание 1\n",
        "x = sym.symbols('x')\n",
        "from scipy import optimize\n",
        "def f(x):\n",
        "     return ((6+x)**3-2*x**2-28*x-17)\n",
        "solution = optimize.root(f, x0=0)\n",
        "print(solution)\n",
        "\n",
        "graph1 = (6+x)**3-2*x**2-28*x-17\n",
        "g1 = sym.plot(graph1)\n"
      ],
      "metadata": {
        "colab": {
          "base_uri": "https://localhost:8080/",
          "height": 658
        },
        "id": "Rqg7L02o98sa",
        "outputId": "efdbffde-8b81-4799-c18a-33034b2fa8fa"
      },
      "execution_count": 24,
      "outputs": [
        {
          "output_type": "stream",
          "name": "stdout",
          "text": [
            " message: The iteration is not making good progress, as measured by the \n",
            "            improvement from the last ten iterations.\n",
            " success: False\n",
            "  status: 5\n",
            "     fun: [ 7.100e+01]\n",
            "       x: [-4.003e+00]\n",
            "    nfev: 24\n",
            "    fjac: [[-1.000e+00]]\n",
            "       r: [-6.799e-03]\n",
            "     qtf: [-7.100e+01]\n"
          ]
        },
        {
          "output_type": "display_data",
          "data": {
            "text/plain": [
              "<Figure size 640x480 with 1 Axes>"
            ],
            "image/png": "[encoded data removed]"
          },
          "metadata": {}
        }
      ]
    },
    {
      "cell_type": "code",
      "source": [
        "# Задание 2\n",
        "def f(x):\n",
        "     return (28*x**3-9*x**2-x+6)\n",
        "solution = optimize.fsolve(f, x0=0)\n",
        "print(solution)\n",
        "\n",
        "graph2 = 28*x**3-9*x**2-x+6\n",
        "g2 = sym.plot(graph2)\n"
      ],
      "metadata": {
        "colab": {
          "base_uri": "https://localhost:8080/",
          "height": 556
        },
        "id": "Gvf6wo6PBgi3",
        "outputId": "8da7caf9-d7f4-409f-fa05-0d1610422e3d"
      },
      "execution_count": 16,
      "outputs": [
        {
          "output_type": "stream",
          "name": "stderr",
          "text": [
            "/usr/local/lib/python3.10/dist-packages/scipy/optimize/_minpack_py.py:177: RuntimeWarning: The iteration is not making good progress, as measured by the \n",
            "  improvement from the last five Jacobian evaluations.\n",
            "  warnings.warn(msg, RuntimeWarning)\n"
          ]
        },
        {
          "output_type": "stream",
          "name": "stdout",
          "text": [
            "[0.25800021]\n"
          ]
        },
        {
          "output_type": "display_data",
          "data": {
            "text/plain": [
              "<Figure size 640x480 with 1 Axes>"
            ],
            "image/png": "[encoded data removed]"
          },
          "metadata": {}
        }
      ]
    },
    {
      "cell_type": "code",
      "source": [
        "# Задание 3\n",
        "a = 28\n",
        "b = 3\n",
        "m = 1\n",
        "v = 6\n",
        "g = 3\n",
        "\n",
        "def equations(x):\n",
        "    x1, x2, x3, x4 = x[0], x[1], x[2], x[3]\n",
        "    eq1 = 3 * x1 - x2 + x3 + g * x4 - a\n",
        "    eq2 = x1 - m * x2 + v * x3 + x4 * 4 - b\n",
        "    eq3 = -5 * x1 - x3 -7 * x4 + a\n",
        "    eq4 = x1 - 6 * x2 + a * x3 + 6 * x4 - 3\n",
        "    return [eq1, eq2, eq3, eq4]\n",
        "\n",
        "solution = optimize.fsolve(equations, [0, 0, 0, 0])\n",
        "\n",
        "solution"
      ],
      "metadata": {
        "colab": {
          "base_uri": "https://localhost:8080/"
        },
        "id": "3aBgVQRB8LQC",
        "outputId": "fb8c04b5-6c72-4d42-9982-dd2ed140b405"
      },
      "execution_count": 22,
      "outputs": [
        {
          "output_type": "execute_result",
          "data": {
            "text/plain": [
              "array([  5.09756098, -13.41463415,  -3.12195122,   0.80487805])"
            ]
          },
          "metadata": {},
          "execution_count": 22
        }
      ]
    },
    {
      "cell_type": "code",
      "source": [
        "# Задание 4\n",
        "def equations(x):\n",
        "    x1, x2, x3, x4 = x[0], x[1], x[2], x[3]\n",
        "    eq1 = b * x1 + g * x2 + v * x3 + x4 - 10 * m - v\n",
        "    eq2 = x1 - 3 * m * x2 + 2 * x3 + 4 * a * x4 - 9 - g\n",
        "    eq3 = -5 * x1 + v * x2 - x3 -7 * x4 + 5\n",
        "    eq4 = v * x1 - 6 * x2 + 2 * x3 + 6 * x4 - m\n",
        "    return [eq1, eq2, eq3, eq4]\n",
        "\n",
        "solutions = optimize.root(equations, x0=[0, 0, 0, 0])\n",
        "solutions.x"
      ],
      "metadata": {
        "colab": {
          "base_uri": "https://localhost:8080/"
        },
        "id": "QoPK7lID9HaD",
        "outputId": "a8f1ad41-8c11-4012-b495-555dfcb2ce3b"
      },
      "execution_count": 25,
      "outputs": [
        {
          "output_type": "execute_result",
          "data": {
            "text/plain": [
              "array([-61.35714286, -44.44805195,  55.82467532,  -1.53246753])"
            ]
          },
          "metadata": {},
          "execution_count": 25
        }
      ]
    }
  ]
}