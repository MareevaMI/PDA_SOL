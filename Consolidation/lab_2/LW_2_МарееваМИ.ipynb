{
  "nbformat": 4,
  "nbformat_minor": 0,
  "metadata": {
    "colab": {
      "provenance": []
    },
    "kernelspec": {
      "name": "python3",
      "display_name": "Python 3"
    },
    "language_info": {
      "name": "python"
    }
  },
  "cells": [
    {
      "cell_type": "markdown",
      "source": [
        "Первая часть лабораторной работы: Парсинг HTML. XPath"
      ],
      "metadata": {
        "id": "1qLRhGIkzd3Q"
      }
    },
    {
      "cell_type": "code",
      "execution_count": 1,
      "metadata": {
        "id": "ScGVjXUGwox-"
      },
      "outputs": [],
      "source": [
        "# Импорт библиотек\n",
        "import requests\n",
        "from lxml import html\n",
        "import pandas as pd\n",
        "import matplotlib.pyplot as plt\n",
        "import seaborn as sns"
      ]
    },
    {
      "cell_type": "code",
      "source": [
        "# url сайта (вариант 19):  https://www.nerdwallet.com/the-best-credit-cards\n",
        "# Отправка GET-запроса к целевому URL\n",
        "\n",
        "url = 'https://www.nerdwallet.com/the-best-credit-cards'\n",
        "headers = {\n",
        "    'User-Agent': 'Mozilla/5.0 (Windows NT 10.0; Win64; x64) AppleWebKit/537.36 (KHTML, like Gecko) Chrome/91.0.4472.124 Safari/537.36'\n",
        "}\n",
        "response = requests.get(url, headers=headers)\n",
        "if response.status_code == 200:\n",
        " page_content = response.content\n",
        "else:\n",
        " print(f\"Ошибка при получении страницы: {response.status_code}\")\n",
        " exit()"
      ],
      "metadata": {
        "id": "Ju83vAh7ztz7"
      },
      "execution_count": 2,
      "outputs": []
    },
    {
      "cell_type": "code",
      "source": [
        "\n",
        "# Парсим страницу\n",
        "tree = html.fromstring(response.content)\n",
        "\n",
        "# Извлекаем данные о кредитных картах\n",
        "cards = tree.xpath('//div[@class=\"card-list__item\"]')\n",
        "\n",
        "# Создаем пустой список для хранения данных\n",
        "data = []\n",
        "\n",
        "for card in cards:\n",
        "    try:\n",
        "        name = card.xpath('.//h2[@class=\"card-list__item__title\"]/text()')[0]\n",
        "        issuer = card.xpath('.//p[@class=\"card-list__item__issuer\"]/text()')[0]\n",
        "        rewards_rate = card.xpath('.//p[@class=\"card-list__item__rewards-rate\"]/text()')[0]\n",
        "        annual_fee = card.xpath('.//p[@class=\"card-list__item__annual-fee\"]/text()')[0]\n",
        "        intro_apr = card.xpath('.//p[@class=\"card-list__item__intro-apr\"]/text()')[0]\n",
        "\n",
        "        print(f\"Название карты: {name}\")\n",
        "        print(f\"Издатель: {issuer}\")\n",
        "        print(f\"Ставка наград: {rewards_rate}\")\n",
        "        print(f\"Годовой взнос: {annual_fee}\")\n",
        "        print(f\"Вводная процентная ставка: {intro_apr}\")\n",
        "        print(\"-\" * 50)\n",
        "\n",
        "        # Добавляем данные в список\n",
        "        data.append({\n",
        "            'Название карты': name,\n",
        "            'Издатель': issuer,\n",
        "            'Ставка наград': rewards_rate,\n",
        "            'Годовой взнос': annual_fee,\n",
        "            'Вводная процентная ставка': intro_apr\n",
        "        })\n",
        "    except IndexError as e:\n",
        "        print(f\"Ошибка при извлечении данных: {e}\")\n",
        "\n",
        "# Создаем датафрейм из списка\n",
        "df = pd.DataFrame(data)\n",
        "\n",
        "# Выводим первые 3 строки датафрейма\n",
        "print(df.head(3))"
      ],
      "metadata": {
        "colab": {
          "base_uri": "https://localhost:8080/"
        },
        "id": "qVw7wY_v8ejA",
        "outputId": "72b4aad1-18f1-4585-a727-0b3d0d0ae784"
      },
      "execution_count": 4,
      "outputs": [
        {
          "output_type": "stream",
          "name": "stdout",
          "text": [
            "Empty DataFrame\n",
            "Columns: []\n",
            "Index: []\n"
          ]
        }
      ]
    }
  ]
}