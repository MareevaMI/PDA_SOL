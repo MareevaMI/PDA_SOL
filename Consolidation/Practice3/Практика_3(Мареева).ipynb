{
  "nbformat": 4,
  "nbformat_minor": 0,
  "metadata": {
    "colab": {
      "provenance": []
    },
    "kernelspec": {
      "name": "python3",
      "display_name": "Python 3"
    },
    "language_info": {
      "name": "python"
    }
  },
  "cells": [
    {
      "cell_type": "code",
      "execution_count": 163,
      "metadata": {
        "id": "lAa7R0paGOnS"
      },
      "outputs": [],
      "source": [
        "import pandas as pd\n",
        "import numpy as np\n",
        "import json\n",
        "from datetime import datetime, timedelta\n",
        "import random"
      ]
    },
    {
      "cell_type": "code",
      "source": [
        "# Функция для генерации случайной даты\n",
        "def random_date(start, end):\n",
        " return start + timedelta(\n",
        " seconds=random.randint(0, int((end - start).total_seconds()))\n",
        " )"
      ],
      "metadata": {
        "id": "p1TAA9aZGpdU"
      },
      "execution_count": 164,
      "outputs": []
    },
    {
      "cell_type": "markdown",
      "source": [
        "Создание файла CSV со списком акций компаний\n",
        "- поля: id компании, название компании, стоимость акции\n",
        "- 100 строк\n",
        "- ключевое поле связки - id компании"
      ],
      "metadata": {
        "id": "xFXVwOrZJWbT"
      }
    },
    {
      "cell_type": "code",
      "source": [
        "companies = []\n",
        "for i in range(100): # Генерируем 100 продуктов\n",
        " company = {\n",
        " 'company_id': f'P{i:03d}',\n",
        " 'company_name': f'Компания {i}',\n",
        " 'price': round(random.uniform(10, 1000), 2)\n",
        " }\n",
        " companies.append(company)"
      ],
      "metadata": {
        "id": "_blE4GvzHfyj"
      },
      "execution_count": 165,
      "outputs": []
    },
    {
      "cell_type": "code",
      "source": [
        "df_companies = pd.DataFrame(companies)\n",
        "df_companies.to_csv('companies.csv', index=False)\n",
        "print(\"Файл companies.csv создан\")"
      ],
      "metadata": {
        "colab": {
          "base_uri": "https://localhost:8080/"
        },
        "id": "VW9lZVwFJPGb",
        "outputId": "bdb196e1-b1e6-44a8-9f9e-a4f7278898a3"
      },
      "execution_count": 166,
      "outputs": [
        {
          "output_type": "stream",
          "name": "stdout",
          "text": [
            "Файл companies.csv создан\n"
          ]
        }
      ]
    },
    {
      "cell_type": "markdown",
      "source": [
        "Создание файла EXCEL с количеством сделок:\n",
        "- поля: id компании, название компании, дата сделки, количество проданных акций\n",
        "- записей больше, количество компаний то же, что и в файле CSV\n",
        "- количество проданных акций варьируется от 1 до 500"
      ],
      "metadata": {
        "id": "Kx_w4kcMNNj6"
      }
    },
    {
      "cell_type": "code",
      "source": [
        "sales = []\n",
        "start_date = datetime(2023, 1, 1)\n",
        "end_date = datetime(2023, 12, 31)\n",
        "for _ in range(10000): # Генерируем 10000 записей о продажах\n",
        " company = random.choice(companies)\n",
        " sale = {\n",
        " 'date': random_date(start_date, end_date).strftime('%Y-%m-%d'),\n",
        " 'company_id': company['company_id'],\n",
        " 'quantity': random.randint(1, 500)}\n",
        " sales.append(sale)"
      ],
      "metadata": {
        "id": "Htl4PMvQMbnj"
      },
      "execution_count": 167,
      "outputs": []
    },
    {
      "cell_type": "code",
      "source": [
        "df_sales = pd.DataFrame(sales)\n",
        "df_sales.to_excel('sales.xlsx', index=False)\n",
        "print(\"Файл sales.xlsx создан\")"
      ],
      "metadata": {
        "colab": {
          "base_uri": "https://localhost:8080/"
        },
        "id": "zJj0Z9F5O0y0",
        "outputId": "035e81ef-d777-41dd-b9c6-2414a81cd401"
      },
      "execution_count": 168,
      "outputs": [
        {
          "output_type": "stream",
          "name": "stdout",
          "text": [
            "Файл sales.xlsx создан\n"
          ]
        }
      ]
    },
    {
      "cell_type": "markdown",
      "source": [
        "Создание файла JSON с данными о прогнозе изменения стоимости акций:\n",
        "\n",
        "поля: id компании, название компании, прогноз (число от -1000 до 1000, соответствует цене падения или поднятия акции компании)\n"
      ],
      "metadata": {
        "id": "aUNmn4m0PiaP"
      }
    },
    {
      "cell_type": "code",
      "source": [
        "prognostications = []\n",
        "for i in range(100): # Генерируем 100 прогнозов\n",
        " prognostication = {\n",
        " 'company_id': f'P{i:03d}',\n",
        " 'prognost': round(random.uniform(-1000, 1000), 2)\n",
        " }\n",
        " prognostications.append(prognostication)"
      ],
      "metadata": {
        "id": "we1xP2-bPaEI"
      },
      "execution_count": 169,
      "outputs": []
    },
    {
      "cell_type": "code",
      "source": [
        "with open('prognostications.json', 'w', encoding='utf-8') as f:\n",
        " json.dump(prognostications, f, ensure_ascii=False, indent=4)"
      ],
      "metadata": {
        "id": "DayDRUZOQizl"
      },
      "execution_count": 170,
      "outputs": []
    },
    {
      "cell_type": "code",
      "source": [
        "import pandas as pd\n",
        "import numpy as np\n",
        "import matplotlib.pyplot as plt"
      ],
      "metadata": {
        "id": "AXZv3TPCQzLu"
      },
      "execution_count": 171,
      "outputs": []
    },
    {
      "cell_type": "code",
      "source": [
        "df_companies = pd.read_csv('companies.csv')\n",
        "print(\"Данные об акциях компаний:\")\n",
        "print(df_companies.head())"
      ],
      "metadata": {
        "colab": {
          "base_uri": "https://localhost:8080/"
        },
        "id": "hHioa1iQR6Hn",
        "outputId": "f8f423d3-ebbf-4515-b60c-fa4c477ef212"
      },
      "execution_count": 172,
      "outputs": [
        {
          "output_type": "stream",
          "name": "stdout",
          "text": [
            "Данные об акциях компаний:\n",
            "  company_id company_name   price\n",
            "0       P000   Компания 0  627.33\n",
            "1       P001   Компания 1   94.38\n",
            "2       P002   Компания 2  146.63\n",
            "3       P003   Компания 3  246.43\n",
            "4       P004   Компания 4  489.03\n"
          ]
        }
      ]
    },
    {
      "cell_type": "code",
      "source": [
        "df_sales = pd.read_excel('sales.xlsx')\n",
        "print(\"\\nДанные о продажах акций:\")\n",
        "print(df_sales.head())"
      ],
      "metadata": {
        "colab": {
          "base_uri": "https://localhost:8080/"
        },
        "id": "pW_qurOySJMk",
        "outputId": "a0d1c350-f3fc-4e72-d594-55a6cea5f929"
      },
      "execution_count": 173,
      "outputs": [
        {
          "output_type": "stream",
          "name": "stdout",
          "text": [
            "\n",
            "Данные о продажах акций:\n",
            "         date company_id  quantity\n",
            "0  2023-08-15       P078        27\n",
            "1  2023-04-16       P053       176\n",
            "2  2023-07-13       P038       262\n",
            "3  2023-01-12       P075       179\n",
            "4  2023-01-10       P005        97\n"
          ]
        }
      ]
    },
    {
      "cell_type": "code",
      "source": [
        "df_prognostications = pd.read_json('prognostications.json')\n",
        "print(\"\\nДанные о прогнозах цен акций:\")\n",
        "print(df_prognostications.head())"
      ],
      "metadata": {
        "colab": {
          "base_uri": "https://localhost:8080/"
        },
        "id": "_LojwQypST-n",
        "outputId": "da48a531-c3bb-4ddd-f51a-7e647affc4d2"
      },
      "execution_count": 174,
      "outputs": [
        {
          "output_type": "stream",
          "name": "stdout",
          "text": [
            "\n",
            "Данные о прогнозах цен акций:\n",
            "  company_id  prognost\n",
            "0       P000    481.16\n",
            "1       P001    879.04\n",
            "2       P002   -967.82\n",
            "3       P003    945.98\n",
            "4       P004   -337.15\n"
          ]
        }
      ]
    },
    {
      "cell_type": "code",
      "source": [
        "print(\"\\nПропущенные значения:\")\n",
        "print(df_companies.isnull().sum())\n",
        "print(df_sales.isnull().sum())\n",
        "print(df_prognostications.isnull().sum())"
      ],
      "metadata": {
        "colab": {
          "base_uri": "https://localhost:8080/"
        },
        "id": "C7PJSu3NSiDK",
        "outputId": "42b4956c-ce93-464c-c3ef-f4af1d136f0f"
      },
      "execution_count": 175,
      "outputs": [
        {
          "output_type": "stream",
          "name": "stdout",
          "text": [
            "\n",
            "Пропущенные значения:\n",
            "company_id      0\n",
            "company_name    0\n",
            "price           0\n",
            "dtype: int64\n",
            "date          0\n",
            "company_id    0\n",
            "quantity      0\n",
            "dtype: int64\n",
            "company_id    0\n",
            "prognost      0\n",
            "dtype: int64\n"
          ]
        }
      ]
    },
    {
      "cell_type": "code",
      "source": [
        "df_sales.columns = df_sales.columns.str.lower()\n",
        "df_prognostications.columns = df_prognostications.columns.str.lower()\n",
        "df_companies.columns = df_companies.columns.str.lower()"
      ],
      "metadata": {
        "id": "JeKyXcZ-Xlon"
      },
      "execution_count": 176,
      "outputs": []
    },
    {
      "cell_type": "code",
      "source": [
        "df_consolidated2 = pd.merge(df_companies, df_prognostications, on='company_id', how='left')\n",
        "print(\"\\nКонсолидированные данные:\")\n",
        "print(df_consolidated2.head(20))"
      ],
      "metadata": {
        "colab": {
          "base_uri": "https://localhost:8080/"
        },
        "id": "DNzINmxdTRkq",
        "outputId": "84dfa07c-5461-4856-8f64-300445839844"
      },
      "execution_count": 177,
      "outputs": [
        {
          "output_type": "stream",
          "name": "stdout",
          "text": [
            "\n",
            "Консолидированные данные:\n",
            "   company_id company_name   price  prognost\n",
            "0        P000   Компания 0  627.33    481.16\n",
            "1        P001   Компания 1   94.38    879.04\n",
            "2        P002   Компания 2  146.63   -967.82\n",
            "3        P003   Компания 3  246.43    945.98\n",
            "4        P004   Компания 4  489.03   -337.15\n",
            "5        P005   Компания 5  544.26    575.97\n",
            "6        P006   Компания 6  742.71    308.21\n",
            "7        P007   Компания 7  127.42   -451.54\n",
            "8        P008   Компания 8  420.03    -84.64\n",
            "9        P009   Компания 9  895.27    128.20\n",
            "10       P010  Компания 10  663.43   -489.18\n",
            "11       P011  Компания 11  737.87    938.64\n",
            "12       P012  Компания 12  373.99    385.34\n",
            "13       P013  Компания 13  867.70   -337.71\n",
            "14       P014  Компания 14  575.28    -70.35\n",
            "15       P015  Компания 15  658.77    865.50\n",
            "16       P016  Компания 16  967.26   -644.67\n",
            "17       P017  Компания 17  799.79   -811.37\n",
            "18       P018  Компания 18  841.08    597.47\n",
            "19       P019  Компания 19   37.92    381.49\n"
          ]
        }
      ]
    },
    {
      "cell_type": "code",
      "source": [
        "df_consolidated = pd.merge(df_consolidated2, df_sales, on='company_id', how='left')\n",
        "print(\"\\nКонсолидированные данные:\")\n",
        "print(df_consolidated.head(20))"
      ],
      "metadata": {
        "colab": {
          "base_uri": "https://localhost:8080/"
        },
        "id": "903DRxskYtvg",
        "outputId": "963ba5ff-9c53-437f-ee78-b3e9f6900665"
      },
      "execution_count": 178,
      "outputs": [
        {
          "output_type": "stream",
          "name": "stdout",
          "text": [
            "\n",
            "Консолидированные данные:\n",
            "   company_id company_name   price  prognost        date  quantity\n",
            "0        P000   Компания 0  627.33    481.16  2023-10-06       260\n",
            "1        P000   Компания 0  627.33    481.16  2023-08-25       131\n",
            "2        P000   Компания 0  627.33    481.16  2023-05-15       324\n",
            "3        P000   Компания 0  627.33    481.16  2023-11-08        95\n",
            "4        P000   Компания 0  627.33    481.16  2023-04-30       323\n",
            "5        P000   Компания 0  627.33    481.16  2023-04-30       396\n",
            "6        P000   Компания 0  627.33    481.16  2023-08-23       372\n",
            "7        P000   Компания 0  627.33    481.16  2023-09-15       460\n",
            "8        P000   Компания 0  627.33    481.16  2023-11-05       366\n",
            "9        P000   Компания 0  627.33    481.16  2023-05-23       202\n",
            "10       P000   Компания 0  627.33    481.16  2023-09-04       427\n",
            "11       P000   Компания 0  627.33    481.16  2023-12-13        86\n",
            "12       P000   Компания 0  627.33    481.16  2023-03-30       264\n",
            "13       P000   Компания 0  627.33    481.16  2023-07-06       126\n",
            "14       P000   Компания 0  627.33    481.16  2023-01-03         4\n",
            "15       P000   Компания 0  627.33    481.16  2023-05-01       187\n",
            "16       P000   Компания 0  627.33    481.16  2023-03-06       188\n",
            "17       P000   Компания 0  627.33    481.16  2023-02-18       189\n",
            "18       P000   Компания 0  627.33    481.16  2023-08-16       286\n",
            "19       P000   Компания 0  627.33    481.16  2023-11-08       172\n"
          ]
        }
      ]
    },
    {
      "cell_type": "code",
      "source": [
        "df_consolidated['sales'] = df_consolidated['quantity'] * df_consolidated['price']\n",
        "df_consolidated.head()\n"
      ],
      "metadata": {
        "colab": {
          "base_uri": "https://localhost:8080/",
          "height": 293
        },
        "id": "Z8pzycUhY8-T",
        "outputId": "0280468b-1db7-4822-e286-623be27b5f09"
      },
      "execution_count": 182,
      "outputs": [
        {
          "output_type": "execute_result",
          "data": {
            "text/plain": [
              "  company_id company_name   price  prognost        date  quantity      sales\n",
              "0       P000   Компания 0  627.33    481.16  2023-10-06       260  163105.80\n",
              "1       P000   Компания 0  627.33    481.16  2023-08-25       131   82180.23\n",
              "2       P000   Компания 0  627.33    481.16  2023-05-15       324  203254.92\n",
              "3       P000   Компания 0  627.33    481.16  2023-11-08        95   59596.35\n",
              "4       P000   Компания 0  627.33    481.16  2023-04-30       323  202627.59"
            ],
            "text/html": [
              "\n",
              "  <div id=\"df-958a3651-6c41-4a4c-b96f-813c4467b29a\" class=\"colab-df-container\">\n",
              "    <div>\n",
              "<style scoped>\n",
              "    .dataframe tbody tr th:only-of-type {\n",
              "        vertical-align: middle;\n",
              "    }\n",
              "\n",
              "    .dataframe tbody tr th {\n",
              "        vertical-align: top;\n",
              "    }\n",
              "\n",
              "    .dataframe thead th {\n",
              "        text-align: right;\n",
              "    }\n",
              "</style>\n",
              "<table border=\"1\" class=\"dataframe\">\n",
              "  <thead>\n",
              "    <tr style=\"text-align: right;\">\n",
              "      <th></th>\n",
              "      <th>company_id</th>\n",
              "      <th>company_name</th>\n",
              "      <th>price</th>\n",
              "      <th>prognost</th>\n",
              "      <th>date</th>\n",
              "      <th>quantity</th>\n",
              "      <th>sales</th>\n",
              "    </tr>\n",
              "  </thead>\n",
              "  <tbody>\n",
              "    <tr>\n",
              "      <th>0</th>\n",
              "      <td>P000</td>\n",
              "      <td>Компания 0</td>\n",
              "      <td>627.33</td>\n",
              "      <td>481.16</td>\n",
              "      <td>2023-10-06</td>\n",
              "      <td>260</td>\n",
              "      <td>163105.80</td>\n",
              "    </tr>\n",
              "    <tr>\n",
              "      <th>1</th>\n",
              "      <td>P000</td>\n",
              "      <td>Компания 0</td>\n",
              "      <td>627.33</td>\n",
              "      <td>481.16</td>\n",
              "      <td>2023-08-25</td>\n",
              "      <td>131</td>\n",
              "      <td>82180.23</td>\n",
              "    </tr>\n",
              "    <tr>\n",
              "      <th>2</th>\n",
              "      <td>P000</td>\n",
              "      <td>Компания 0</td>\n",
              "      <td>627.33</td>\n",
              "      <td>481.16</td>\n",
              "      <td>2023-05-15</td>\n",
              "      <td>324</td>\n",
              "      <td>203254.92</td>\n",
              "    </tr>\n",
              "    <tr>\n",
              "      <th>3</th>\n",
              "      <td>P000</td>\n",
              "      <td>Компания 0</td>\n",
              "      <td>627.33</td>\n",
              "      <td>481.16</td>\n",
              "      <td>2023-11-08</td>\n",
              "      <td>95</td>\n",
              "      <td>59596.35</td>\n",
              "    </tr>\n",
              "    <tr>\n",
              "      <th>4</th>\n",
              "      <td>P000</td>\n",
              "      <td>Компания 0</td>\n",
              "      <td>627.33</td>\n",
              "      <td>481.16</td>\n",
              "      <td>2023-04-30</td>\n",
              "      <td>323</td>\n",
              "      <td>202627.59</td>\n",
              "    </tr>\n",
              "  </tbody>\n",
              "</table>\n",
              "</div>\n",
              "    <div class=\"colab-df-buttons\">\n",
              "\n",
              "  <div class=\"colab-df-container\">\n",
              "    <button class=\"colab-df-convert\" onclick=\"convertToInteractive('df-958a3651-6c41-4a4c-b96f-813c4467b29a')\"\n",
              "            title=\"Convert this dataframe to an interactive table.\"\n",
              "            style=\"display:none;\">\n",
              "\n",
              "  <svg xmlns=\"http://www.w3.org/2000/svg\" height=\"24px\" viewBox=\"0 -960 960 960\">\n",
              "    <path d=\"M120-120v-720h720v720H120Zm60-500h600v-160H180v160Zm220 220h160v-160H400v160Zm0 220h160v-160H400v160ZM180-400h160v-160H180v160Zm440 0h160v-160H620v160ZM180-180h160v-160H180v160Zm440 0h160v-160H620v160Z\"/>\n",
              "  </svg>\n",
              "    </button>\n",
              "\n",
              "  <style>\n",
              "    .colab-df-container {\n",
              "      display:flex;\n",
              "      gap: 12px;\n",
              "    }\n",
              "\n",
              "    .colab-df-convert {\n",
              "      background-color: #E8F0FE;\n",
              "      border: none;\n",
              "      border-radius: 50%;\n",
              "      cursor: pointer;\n",
              "      display: none;\n",
              "      fill: #1967D2;\n",
              "      height: 32px;\n",
              "      padding: 0 0 0 0;\n",
              "      width: 32px;\n",
              "    }\n",
              "\n",
              "    .colab-df-convert:hover {\n",
              "      background-color: #E2EBFA;\n",
              "      box-shadow: 0px 1px 2px rgba(60, 64, 67, 0.3), 0px 1px 3px 1px rgba(60, 64, 67, 0.15);\n",
              "      fill: #174EA6;\n",
              "    }\n",
              "\n",
              "    .colab-df-buttons div {\n",
              "      margin-bottom: 4px;\n",
              "    }\n",
              "\n",
              "    [theme=dark] .colab-df-convert {\n",
              "      background-color: #3B4455;\n",
              "      fill: #D2E3FC;\n",
              "    }\n",
              "\n",
              "    [theme=dark] .colab-df-convert:hover {\n",
              "      background-color: #434B5C;\n",
              "      box-shadow: 0px 1px 3px 1px rgba(0, 0, 0, 0.15);\n",
              "      filter: drop-shadow(0px 1px 2px rgba(0, 0, 0, 0.3));\n",
              "      fill: #FFFFFF;\n",
              "    }\n",
              "  </style>\n",
              "\n",
              "    <script>\n",
              "      const buttonEl =\n",
              "        document.querySelector('#df-958a3651-6c41-4a4c-b96f-813c4467b29a button.colab-df-convert');\n",
              "      buttonEl.style.display =\n",
              "        google.colab.kernel.accessAllowed ? 'block' : 'none';\n",
              "\n",
              "      async function convertToInteractive(key) {\n",
              "        const element = document.querySelector('#df-958a3651-6c41-4a4c-b96f-813c4467b29a');\n",
              "        const dataTable =\n",
              "          await google.colab.kernel.invokeFunction('convertToInteractive',\n",
              "                                                    [key], {});\n",
              "        if (!dataTable) return;\n",
              "\n",
              "        const docLinkHtml = 'Like what you see? Visit the ' +\n",
              "          '<a target=\"_blank\" href=https://colab.research.google.com/notebooks/data_table.ipynb>data table notebook</a>'\n",
              "          + ' to learn more about interactive tables.';\n",
              "        element.innerHTML = '';\n",
              "        dataTable['output_type'] = 'display_data';\n",
              "        await google.colab.output.renderOutput(dataTable, element);\n",
              "        const docLink = document.createElement('div');\n",
              "        docLink.innerHTML = docLinkHtml;\n",
              "        element.appendChild(docLink);\n",
              "      }\n",
              "    </script>\n",
              "  </div>\n",
              "\n",
              "\n",
              "<div id=\"df-ca6f37bf-6185-4d81-981c-0b6ac0f56c5a\">\n",
              "  <button class=\"colab-df-quickchart\" onclick=\"quickchart('df-ca6f37bf-6185-4d81-981c-0b6ac0f56c5a')\"\n",
              "            title=\"Suggest charts\"\n",
              "            style=\"display:none;\">\n",
              "\n",
              "<svg xmlns=\"http://www.w3.org/2000/svg\" height=\"24px\"viewBox=\"0 0 24 24\"\n",
              "     width=\"24px\">\n",
              "    <g>\n",
              "        <path d=\"M19 3H5c-1.1 0-2 .9-2 2v14c0 1.1.9 2 2 2h14c1.1 0 2-.9 2-2V5c0-1.1-.9-2-2-2zM9 17H7v-7h2v7zm4 0h-2V7h2v10zm4 0h-2v-4h2v4z\"/>\n",
              "    </g>\n",
              "</svg>\n",
              "  </button>\n",
              "\n",
              "<style>\n",
              "  .colab-df-quickchart {\n",
              "      --bg-color: #E8F0FE;\n",
              "      --fill-color: #1967D2;\n",
              "      --hover-bg-color: #E2EBFA;\n",
              "      --hover-fill-color: #174EA6;\n",
              "      --disabled-fill-color: #AAA;\n",
              "      --disabled-bg-color: #DDD;\n",
              "  }\n",
              "\n",
              "  [theme=dark] .colab-df-quickchart {\n",
              "      --bg-color: #3B4455;\n",
              "      --fill-color: #D2E3FC;\n",
              "      --hover-bg-color: #434B5C;\n",
              "      --hover-fill-color: #FFFFFF;\n",
              "      --disabled-bg-color: #3B4455;\n",
              "      --disabled-fill-color: #666;\n",
              "  }\n",
              "\n",
              "  .colab-df-quickchart {\n",
              "    background-color: var(--bg-color);\n",
              "    border: none;\n",
              "    border-radius: 50%;\n",
              "    cursor: pointer;\n",
              "    display: none;\n",
              "    fill: var(--fill-color);\n",
              "    height: 32px;\n",
              "    padding: 0;\n",
              "    width: 32px;\n",
              "  }\n",
              "\n",
              "  .colab-df-quickchart:hover {\n",
              "    background-color: var(--hover-bg-color);\n",
              "    box-shadow: 0 1px 2px rgba(60, 64, 67, 0.3), 0 1px 3px 1px rgba(60, 64, 67, 0.15);\n",
              "    fill: var(--button-hover-fill-color);\n",
              "  }\n",
              "\n",
              "  .colab-df-quickchart-complete:disabled,\n",
              "  .colab-df-quickchart-complete:disabled:hover {\n",
              "    background-color: var(--disabled-bg-color);\n",
              "    fill: var(--disabled-fill-color);\n",
              "    box-shadow: none;\n",
              "  }\n",
              "\n",
              "  .colab-df-spinner {\n",
              "    border: 2px solid var(--fill-color);\n",
              "    border-color: transparent;\n",
              "    border-bottom-color: var(--fill-color);\n",
              "    animation:\n",
              "      spin 1s steps(1) infinite;\n",
              "  }\n",
              "\n",
              "  @keyframes spin {\n",
              "    0% {\n",
              "      border-color: transparent;\n",
              "      border-bottom-color: var(--fill-color);\n",
              "      border-left-color: var(--fill-color);\n",
              "    }\n",
              "    20% {\n",
              "      border-color: transparent;\n",
              "      border-left-color: var(--fill-color);\n",
              "      border-top-color: var(--fill-color);\n",
              "    }\n",
              "    30% {\n",
              "      border-color: transparent;\n",
              "      border-left-color: var(--fill-color);\n",
              "      border-top-color: var(--fill-color);\n",
              "      border-right-color: var(--fill-color);\n",
              "    }\n",
              "    40% {\n",
              "      border-color: transparent;\n",
              "      border-right-color: var(--fill-color);\n",
              "      border-top-color: var(--fill-color);\n",
              "    }\n",
              "    60% {\n",
              "      border-color: transparent;\n",
              "      border-right-color: var(--fill-color);\n",
              "    }\n",
              "    80% {\n",
              "      border-color: transparent;\n",
              "      border-right-color: var(--fill-color);\n",
              "      border-bottom-color: var(--fill-color);\n",
              "    }\n",
              "    90% {\n",
              "      border-color: transparent;\n",
              "      border-bottom-color: var(--fill-color);\n",
              "    }\n",
              "  }\n",
              "</style>\n",
              "\n",
              "  <script>\n",
              "    async function quickchart(key) {\n",
              "      const quickchartButtonEl =\n",
              "        document.querySelector('#' + key + ' button');\n",
              "      quickchartButtonEl.disabled = true;  // To prevent multiple clicks.\n",
              "      quickchartButtonEl.classList.add('colab-df-spinner');\n",
              "      try {\n",
              "        const charts = await google.colab.kernel.invokeFunction(\n",
              "            'suggestCharts', [key], {});\n",
              "      } catch (error) {\n",
              "        console.error('Error during call to suggestCharts:', error);\n",
              "      }\n",
              "      quickchartButtonEl.classList.remove('colab-df-spinner');\n",
              "      quickchartButtonEl.classList.add('colab-df-quickchart-complete');\n",
              "    }\n",
              "    (() => {\n",
              "      let quickchartButtonEl =\n",
              "        document.querySelector('#df-ca6f37bf-6185-4d81-981c-0b6ac0f56c5a button');\n",
              "      quickchartButtonEl.style.display =\n",
              "        google.colab.kernel.accessAllowed ? 'block' : 'none';\n",
              "    })();\n",
              "  </script>\n",
              "</div>\n",
              "    </div>\n",
              "  </div>\n"
            ],
            "application/vnd.google.colaboratory.intrinsic+json": {
              "type": "dataframe",
              "variable_name": "df_consolidated",
              "summary": "{\n  \"name\": \"df_consolidated\",\n  \"rows\": 10000,\n  \"fields\": [\n    {\n      \"column\": \"company_id\",\n      \"properties\": {\n        \"dtype\": \"category\",\n        \"num_unique_values\": 100,\n        \"samples\": [\n          \"P083\",\n          \"P053\",\n          \"P070\"\n        ],\n        \"semantic_type\": \"\",\n        \"description\": \"\"\n      }\n    },\n    {\n      \"column\": \"company_name\",\n      \"properties\": {\n        \"dtype\": \"category\",\n        \"num_unique_values\": 100,\n        \"samples\": [\n          \"\\u041a\\u043e\\u043c\\u043f\\u0430\\u043d\\u0438\\u044f 83\",\n          \"\\u041a\\u043e\\u043c\\u043f\\u0430\\u043d\\u0438\\u044f 53\",\n          \"\\u041a\\u043e\\u043c\\u043f\\u0430\\u043d\\u0438\\u044f 70\"\n        ],\n        \"semantic_type\": \"\",\n        \"description\": \"\"\n      }\n    },\n    {\n      \"column\": \"price\",\n      \"properties\": {\n        \"dtype\": \"number\",\n        \"std\": 294.33391899132175,\n        \"min\": 20.92,\n        \"max\": 996.42,\n        \"num_unique_values\": 100,\n        \"samples\": [\n          312.24,\n          807.54,\n          97.81\n        ],\n        \"semantic_type\": \"\",\n        \"description\": \"\"\n      }\n    },\n    {\n      \"column\": \"prognost\",\n      \"properties\": {\n        \"dtype\": \"number\",\n        \"std\": 607.8078195931797,\n        \"min\": -978.65,\n        \"max\": 961.29,\n        \"num_unique_values\": 100,\n        \"samples\": [\n          319.86,\n          136.68,\n          -919.39\n        ],\n        \"semantic_type\": \"\",\n        \"description\": \"\"\n      }\n    },\n    {\n      \"column\": \"date\",\n      \"properties\": {\n        \"dtype\": \"object\",\n        \"num_unique_values\": 364,\n        \"samples\": [\n          \"2023-03-26\",\n          \"2023-12-10\",\n          \"2023-03-06\"\n        ],\n        \"semantic_type\": \"\",\n        \"description\": \"\"\n      }\n    },\n    {\n      \"column\": \"quantity\",\n      \"properties\": {\n        \"dtype\": \"number\",\n        \"std\": 144,\n        \"min\": 1,\n        \"max\": 500,\n        \"num_unique_values\": 500,\n        \"samples\": [\n          295,\n          400,\n          374\n        ],\n        \"semantic_type\": \"\",\n        \"description\": \"\"\n      }\n    },\n    {\n      \"column\": \"sales\",\n      \"properties\": {\n        \"dtype\": \"number\",\n        \"std\": 115696.04397932693,\n        \"min\": 32.88,\n        \"max\": 495220.74,\n        \"num_unique_values\": 9044,\n        \"samples\": [\n          100653.20000000001,\n          29635.32,\n          215231.94\n        ],\n        \"semantic_type\": \"\",\n        \"description\": \"\"\n      }\n    }\n  ]\n}"
            }
          },
          "metadata": {},
          "execution_count": 182
        }
      ]
    },
    {
      "cell_type": "code",
      "source": [
        "sales_by_company = df_consolidated.groupby('company_id')['sales'].sum().sort_values(ascending=False)\n",
        "print(\"\\nОбщая сумма продаж по компаниям:\")\n",
        "print(sales_by_company)\n"
      ],
      "metadata": {
        "colab": {
          "base_uri": "https://localhost:8080/"
        },
        "id": "LUGYz0c-aBOp",
        "outputId": "cc973296-dbef-4465-c30f-e25cbe8064d7"
      },
      "execution_count": 184,
      "outputs": [
        {
          "output_type": "stream",
          "name": "stdout",
          "text": [
            "\n",
            "Общая сумма продаж по компаниям:\n",
            "company_id\n",
            "P016    33020321.88\n",
            "P038    30824503.82\n",
            "P068    28642734.48\n",
            "P067    25962364.70\n",
            "P022    25316878.09\n",
            "           ...     \n",
            "P032     1100447.14\n",
            "P095      865763.28\n",
            "P019      811639.68\n",
            "P034      691545.60\n",
            "P069      472080.72\n",
            "Name: sales, Length: 100, dtype: float64\n"
          ]
        }
      ]
    },
    {
      "cell_type": "code",
      "source": [
        "df_consolidated['month'] = pd.to_datetime(df_consolidated['date']).dt.month"
      ],
      "metadata": {
        "id": "2geYr-F5aSmk"
      },
      "execution_count": 185,
      "outputs": []
    },
    {
      "cell_type": "code",
      "source": [
        "avg_sales_by_month = df_consolidated.groupby('month')['sales'].mean()\n",
        "print(\"\\nСредняя сумма продаж по месяцам:\")\n",
        "print(avg_sales_by_month)\n"
      ],
      "metadata": {
        "colab": {
          "base_uri": "https://localhost:8080/"
        },
        "id": "xItj9ypxacr3",
        "outputId": "269c396e-aa11-44c8-bbf2-fe60e47d8be1"
      },
      "execution_count": 186,
      "outputs": [
        {
          "output_type": "stream",
          "name": "stdout",
          "text": [
            "\n",
            "Средняя сумма продаж по месяцам:\n",
            "month\n",
            "1     132335.431967\n",
            "2     131782.238737\n",
            "3     135040.014042\n",
            "4     139449.927880\n",
            "5     143409.755146\n",
            "6     137624.288878\n",
            "7     130328.717993\n",
            "8     136593.969540\n",
            "9     133418.318198\n",
            "10    134939.212151\n",
            "11    129698.247152\n",
            "12    131403.817222\n",
            "Name: sales, dtype: float64\n"
          ]
        }
      ]
    },
    {
      "cell_type": "code",
      "source": [
        "plt.figure(figsize=(12, 6))\n",
        "sales_by_company.plot(kind='bar')\n",
        "plt.title('Общая сумма продаж по компаниям')\n",
        "plt.xlabel('Компания')\n",
        "plt.ylabel('Сумма продаж')\n",
        "plt.tight_layout()\n",
        "plt.savefig('sales_by_company.png')\n"
      ],
      "metadata": {
        "colab": {
          "base_uri": "https://localhost:8080/",
          "height": 329
        },
        "id": "qk6qNMIbamH2",
        "outputId": "7368cdbe-f38f-4d9a-be3a-58e66bf39740"
      },
      "execution_count": 187,
      "outputs": [
        {
          "output_type": "display_data",
          "data": {
            "text/plain": [
              "<Figure size 1200x600 with 1 Axes>"
            ],
            "image/png": "[encoded data removed]"
          },
          "metadata": {}
        }
      ]
    },
    {
      "cell_type": "code",
      "source": [
        "plt.figure(figsize=(10, 5))\n",
        "avg_sales_by_month.plot(kind='line', marker='o')\n",
        "plt.title('Средняя сумма продаж по месяцам')\n",
        "plt.xlabel('Месяц')\n",
        "plt.ylabel('Средняя сумма продаж')\n",
        "plt.tight_layout()\n",
        "plt.savefig('avg_sales_by_month.png')"
      ],
      "metadata": {
        "colab": {
          "base_uri": "https://localhost:8080/",
          "height": 328
        },
        "id": "GTiZCwQ0a0s9",
        "outputId": "c8438eea-9b0b-4580-9549-97594ae16a66"
      },
      "execution_count": 188,
      "outputs": [
        {
          "output_type": "display_data",
          "data": {
            "text/plain": [
              "<Figure size 1000x500 with 1 Axes>"
            ],
            "image/png": "[encoded data removed]"
          },
          "metadata": {}
        }
      ]
    },
    {
      "cell_type": "code",
      "source": [
        "df_consolidated.to_csv('consolidated_sales_data.csv', index=False)\n"
      ],
      "metadata": {
        "id": "JoCAcJPZa_7A"
      },
      "execution_count": 190,
      "outputs": []
    }
  ]
}