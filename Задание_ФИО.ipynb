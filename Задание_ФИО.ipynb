{
  "nbformat": 4,
  "nbformat_minor": 0,
  "metadata": {
    "colab": {
      "provenance": [],
      "authorship_tag": "ABX9TyMCuD4FSRrEDmXYEiZJEesq",
      "include_colab_link": true
    },
    "kernelspec": {
      "name": "python3",
      "display_name": "Python 3"
    },
    "language_info": {
      "name": "python"
    }
  },
  "cells": [
    {
      "cell_type": "markdown",
      "metadata": {
        "id": "view-in-github",
        "colab_type": "text"
      },
      "source": [
        "<a href=\"https://colab.research.google.com/github/MareevaMI/PDA_SOL/blob/main/%D0%97%D0%B0%D0%B4%D0%B0%D0%BD%D0%B8%D0%B5_%D0%A4%D0%98%D0%9E.ipynb\" target=\"_parent\"><img src=\"https://colab.research.google.com/assets/colab-badge.svg\" alt=\"Open In Colab\"/></a>"
      ]
    },
    {
      "cell_type": "code",
      "execution_count": 1,
      "metadata": {
        "colab": {
          "base_uri": "https://localhost:8080/"
        },
        "id": "jD-91sVXb2B1",
        "outputId": "da679ded-56a8-467a-a450-653355e7c68a"
      },
      "outputs": [
        {
          "output_type": "stream",
          "name": "stdout",
          "text": [
            "м\n",
            "а\n",
            "р\n",
            "е\n",
            "е\n",
            "в\n",
            "а\n",
            "м\n",
            "а\n",
            "р\n",
            "и\n",
            "я\n",
            "и\n",
            "г\n",
            "о\n",
            "р\n",
            "е\n",
            "в\n",
            "н\n",
            "а\n"
          ]
        }
      ],
      "source": [
        "items = ['м', 'а','р','е','е','в','а','м','а','р','и','я','и','г','о','р','е','в','н','а']\n",
        "for item in items:\n",
        "    print(item)\n"
      ]
    }
  ]
}